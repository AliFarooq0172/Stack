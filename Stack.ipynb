{
  "nbformat": 4,
  "nbformat_minor": 0,
  "metadata": {
    "colab": {
      "provenance": []
    },
    "kernelspec": {
      "name": "python3",
      "display_name": "Python 3"
    },
    "language_info": {
      "name": "python"
    }
  },
  "cells": [
    {
      "cell_type": "markdown",
      "source": [
        "## **STACK** :: *Data Structure*\n",
        "\n",
        "A stack is a data structure that follows the Last In, First Out (LIFO) principle.<br><br>Imagine a stack of plates at a buffet—new plates are added to the top, and when you need a plate, you take the one from the top.<br>Similarly, you add items (push) and retrieve items (pop) from the top of a stack in programming. <br><br>It's a simple and efficient way to manage data, resembling a stack of physical objects in everyday scenarios like the plate example."
      ],
      "metadata": {
        "id": "UXi6uCoN2I4X"
      }
    },
    {
      "cell_type": "code",
      "execution_count": 23,
      "metadata": {
        "colab": {
          "base_uri": "https://localhost:8080/"
        },
        "id": "i_nbBL9U2A4t",
        "outputId": "e66ac806-2c9f-44a9-abff-beb23440a7a6"
      },
      "outputs": [
        {
          "output_type": "stream",
          "name": "stdout",
          "text": [
            "Original List:  [1, 2]\n",
            "None\n",
            "Appended List:  [1, 2, 3]\n",
            "Popping element 3\n",
            "Result List:  [1, 2]\n"
          ]
        }
      ],
      "source": [
        "# Before we begin with the implementation, let's make this clear about using Lists in Python\n",
        "\n",
        "# Suppose, we have a normal List\n",
        "\n",
        "l = [1,2]\n",
        "print(\"Original List: \", l)\n",
        "print(l.append(3))\n",
        "print(\"Appended List: \", l)\n",
        "print(\"Popping element\", l.pop())\n",
        "print(\"Result List: \", l)"
      ]
    },
    {
      "cell_type": "code",
      "source": [
        "# So the append built-in method will always add the element to the end of the list.\n",
        "\n",
        "# What is we wanted to add the element at the start of the list????\n",
        "\n",
        "print(\"Original List: \", l)\n",
        "print(l.insert(0,3))              # method => insert(index, element)\n",
        "print(\"After insertion into List: \", l)\n",
        "print(\"Popping element: \", l.pop())\n",
        "print(\"Result List: \", l)"
      ],
      "metadata": {
        "colab": {
          "base_uri": "https://localhost:8080/"
        },
        "id": "3zLvI1p5-tiz",
        "outputId": "b6d30ef3-10e6-4794-a966-52a99b7f051c"
      },
      "execution_count": 24,
      "outputs": [
        {
          "output_type": "stream",
          "name": "stdout",
          "text": [
            "Original List:  [1, 2]\n",
            "None\n",
            "After insertion into List:  [3, 1, 2]\n",
            "Popping element:  2\n",
            "Result List:  [3, 1]\n"
          ]
        }
      ]
    },
    {
      "cell_type": "code",
      "source": [
        "class Stack(object):\n",
        "  def __init__(self):\n",
        "    self.items = []  # List created which will be our stack\n",
        "\n",
        "  def push(self, item):\n",
        "    \"\"\"\n",
        "    Our Push Method will insert the element at the last index of our stack (list)\n",
        "    Remember, we used the append in-built function for the lists.\n",
        "\n",
        "    Our Push method will not return any value.\n",
        "    \"\"\"\n",
        "\n",
        "    # self.items is our List for the stack (built with constructor), the arg \"item\" is actually the item/data/value passed to this method\n",
        "    self.items.append(item)\n",
        "\n",
        "  def pop(self):\n",
        "    # The pop method is a built-in method for Python Lists that removes and returns the last item from the list.\n",
        "    \"\"\"\n",
        "    This will remove the last item and return it.\n",
        "    \"\"\"\n",
        "    if not self.isEmpty(): # If our stack is not empty, validation is important.\n",
        "        return self.items.pop()\n",
        "\n",
        "  def peek(self):\n",
        "    \"\"\"\n",
        "    This will return the last item of our Stack (in this case, the Pythin list we created)\n",
        "\n",
        "    Validation is important, because if the List/Stack is empty, the code will give an error.\n",
        "    \"\"\"\n",
        "\n",
        "    if self.items:\n",
        "      return self.items[-1] # -1 means that the last element of our List(stack) is selected.\n",
        "    else:\n",
        "      return None\n",
        "\n",
        "  def size(self):\n",
        "    \"\"\"\n",
        "    This will return the size of our Stack\n",
        "\n",
        "    Validation is again important, because if the List/Stack is empty, the code will give an error.\n",
        "    \"\"\"\n",
        "    if self.items:\n",
        "      return len(self.items) # We make use of the In-built function for Python Lists \"len()\"\n",
        "    else:\n",
        "      return None\n",
        "\n",
        "  def isEmpty(self):\n",
        "    if (self.items == []):  # Pretty self-explanatory\n",
        "      return True\n",
        "    else:\n",
        "      return False\n",
        "\n",
        "  def Display(self):\n",
        "        \"\"\"\n",
        "        This method displays all the elements in the stack without using a temporary Variable.\n",
        "        \"\"\"\n",
        "\n",
        "        for item in reversed(self.items): # Iterating each element in the stack, in reversed order\n",
        "            print(item)\n",
        "\n",
        "  def Reversed(self):\n",
        "    # This method will simply return the reversed format of the Stack\n",
        "\n",
        "    return (reversed(self.items))\n",
        "\n"
      ],
      "metadata": {
        "id": "QDyI7yCW_vJb"
      },
      "execution_count": 25,
      "outputs": []
    },
    {
      "cell_type": "code",
      "source": [
        "# Stack is now completed, now we're gonna test each method.\n",
        "# Testing is mandatory of everything we create, the code will give errors or may lead to serious consequences, if not tested properly.\n",
        "\n",
        "stack = Stack() # Creating an Object\n",
        "stack.push(\"1\")\n",
        "stack.push(\"2\")\n",
        "stack.push(\"3\")\n",
        "stack.push(\"4\")\n",
        "\n",
        "print(stack.size())\n",
        "print(stack.peek())\n",
        "\n",
        "stack.pop()\n",
        "\n",
        "print(stack.peek())"
      ],
      "metadata": {
        "colab": {
          "base_uri": "https://localhost:8080/"
        },
        "id": "fqowkAydHAYg",
        "outputId": "8c38215b-34b3-4031-e75b-cfa61488e14e"
      },
      "execution_count": 26,
      "outputs": [
        {
          "output_type": "stream",
          "name": "stdout",
          "text": [
            "4\n",
            "4\n",
            "3\n"
          ]
        }
      ]
    },
    {
      "cell_type": "code",
      "source": [
        "stack.Display()"
      ],
      "metadata": {
        "colab": {
          "base_uri": "https://localhost:8080/"
        },
        "id": "u4oZXSKrMPcv",
        "outputId": "1d090e27-f15e-435b-c617-133d26eb1b13"
      },
      "execution_count": 27,
      "outputs": [
        {
          "output_type": "stream",
          "name": "stdout",
          "text": [
            "3\n",
            "2\n",
            "1\n"
          ]
        }
      ]
    },
    {
      "cell_type": "code",
      "source": [
        "# Easy right? Let's move onto it's complex problems.\n",
        "\"\"\"\n",
        "Problem #1: Parentheses Validation\n",
        "\n",
        "Write a Python function is_valid_parentheses(s) that takes a string s consisting of parentheses '(', ')', '{', '}', '[', ']',\n",
        "and determines if the input string has well-formed parentheses.\n",
        "\n",
        "The function should return True if the parentheses are well-formed, and False otherwise.\n",
        "\n",
        "For example:\n",
        "\n",
        ">>> is_valid_parentheses(\"(){}[]\")\n",
        "True\n",
        "\n",
        ">>> is_valid_parentheses(\"({[]})\")\n",
        "True\n",
        "\n",
        ">>> is_valid_parentheses(\"([)]\")\n",
        "False\n",
        "\n",
        ">>> is_valid_parentheses(\"{[()]}\")\n",
        "True\n",
        "\n",
        "This problem tests your understanding of how to use a stack to check for well-formed parentheses.\n",
        "\n",
        "You'll need to iterate through the characters in the string, use a stack to keep track of the opening parentheses,\n",
        "and check if each closing parenthesis matches the corresponding opening parenthesis.\n",
        "\n",
        "\"\"\"\n",
        "\n",
        "# Defining the Strings for our problems\n",
        "\n",
        "str1 = \"(){}[]\"\n",
        "str2 = \"({[]})\"\n",
        "str3 = \"([)]\"\n",
        "str4 = \"{[()]}\"\n",
        "\n",
        "def is_valid_parentheses(s): # Takes the string as input\n",
        "    s1 = Stack()\n",
        "\n",
        "    # Initializing both the opening and closing brackets\n",
        "    opening_brackets = {'(', '[', '{'}\n",
        "    closing_brackets = {')': '(', ']': '[', '}': '{'}\n",
        "    # We have made a dictionary (key:value pairs for brackets), which will be later used for comparison\n",
        "\n",
        "    for char in s:\n",
        "      if char in opening_brackets:\n",
        "        s1.push(char)                 # If the current character is opening bracket, then push it into our stack\n",
        "      elif char in closing_brackets:  # If the current char is a closing bracket:\n",
        "        # if stack is empty or the last element in our stack is not equal to the current char's key:value pair\n",
        "        if s1.isEmpty() or s1.pop() != closing_brackets[char]:\n",
        "          # stack.pop() = first element of our stack (LIFO)\n",
        "          # If it's equal to the value of the bracket defined in closing_brackets\n",
        "          # closing_brackets[char] will return the value of the key, such that key is the closing bracket, and value is the opening bracket\n",
        "          # if it's not matched then it will return False and Break the loop.\n",
        "          return False\n",
        "\n",
        "    return s1.isEmpty()\n"
      ],
      "metadata": {
        "id": "K16aq52SNNoB"
      },
      "execution_count": 28,
      "outputs": []
    },
    {
      "cell_type": "code",
      "source": [
        "# Let's test this, shall we?\n",
        "\n",
        "print(is_valid_parentheses(str1)) # \"(){}[]\"  # True\n",
        "print(is_valid_parentheses(str2)) # \"({[]})\"  # True\n",
        "print(is_valid_parentheses(str3)) # \"([)]\"    # False\n",
        "print(is_valid_parentheses(str4)) # \"{[()]}\"  # True"
      ],
      "metadata": {
        "colab": {
          "base_uri": "https://localhost:8080/"
        },
        "id": "VH0LMAVgYTaF",
        "outputId": "83cb1ee2-df24-4384-959b-55cdbcf12192"
      },
      "execution_count": 29,
      "outputs": [
        {
          "output_type": "stream",
          "name": "stdout",
          "text": [
            "True\n",
            "True\n",
            "False\n",
            "True\n"
          ]
        }
      ]
    },
    {
      "cell_type": "code",
      "source": [
        "\"\"\"\n",
        "Problem #2: Evaluate Postfix Expression\n",
        "\n",
        "Write a Python function evaluate_postfix(expression) that takes a string expression representing a postfix expression (also known as Reverse Polish Notation) and returns the result of the expression.\n",
        "\n",
        "In postfix notation, operators come after their operands. For example, the infix expression \"2 + 3\" would be written as \"2 3 +\" in postfix notation.\n",
        "\n",
        "The postfix expression can contain the following:\n",
        "\n",
        "Operands: Integers or floating-point numbers.\n",
        "\n",
        "Operators: '+', '-', '*', '/'\n",
        "\n",
        "The function should return the result after evaluating the postfix expression.\n",
        "\n",
        "\n",
        "Example:\n",
        "\n",
        ">>> evaluate_postfix(\"23+\")\n",
        "5\n",
        "\n",
        ">>> evaluate_postfix(\"52*8+\")\n",
        "18\n",
        "\n",
        ">>> evaluate_postfix(\"92/3-\")\n",
        "-1.5\n",
        "\n",
        "Note:\n",
        "You can assume that the input expression is a valid postfix expression, and the operands and operators are separated by spaces.\n",
        "\n",
        "This problem tests your understanding of stack-based evaluation and how to handle operators in postfix notation.\n",
        "\n",
        "\"\"\""
      ],
      "metadata": {
        "colab": {
          "base_uri": "https://localhost:8080/",
          "height": 143
        },
        "id": "wiqpxq9bYpKJ",
        "outputId": "910152c7-f1e2-4dad-9501-db954c165438"
      },
      "execution_count": 30,
      "outputs": [
        {
          "output_type": "execute_result",
          "data": {
            "text/plain": [
              "'\\nProblem #2: Evaluate Postfix Expression\\n\\nWrite a Python function evaluate_postfix(expression) that takes a string expression representing a postfix expression (also known as Reverse Polish Notation) and returns the result of the expression.\\n\\nIn postfix notation, operators come after their operands. For example, the infix expression \"2 + 3\" would be written as \"2 3 +\" in postfix notation.\\n\\nThe postfix expression can contain the following:\\n\\nOperands: Integers or floating-point numbers.\\n\\nOperators: \\'+\\', \\'-\\', \\'*\\', \\'/\\'\\n\\nThe function should return the result after evaluating the postfix expression.\\n\\n\\nExample:\\n\\n>>> evaluate_postfix(\"23+\")\\n5\\n\\n>>> evaluate_postfix(\"52*8+\")\\n18\\n\\n>>> evaluate_postfix(\"92/3-\")\\n-1.5\\n\\nNote:\\nYou can assume that the input expression is a valid postfix expression, and the operands and operators are separated by spaces.\\n\\nThis problem tests your understanding of stack-based evaluation and how to handle operators in postfix notation.\\n\\n'"
            ],
            "application/vnd.google.colaboratory.intrinsic+json": {
              "type": "string"
            }
          },
          "metadata": {},
          "execution_count": 30
        }
      ]
    },
    {
      "cell_type": "code",
      "source": [
        "pf1 = \"23+\"\n",
        "pf2 = \"52*8+\"\n",
        "pf3 = \"92/3-\"\n",
        "\n",
        "# You will need to visualize it, by creating a stack and evaluating the postfix yourself, before moving on to this solution\n",
        "\n",
        "def evaluate_postfix(s):\n",
        "  s2 = Stack()\n",
        "\n",
        "  Operators = {'/':'/', '*':'*', '+':'+', '-':'-'}  # Created a dictionary to check if the current character in the input is an operator\n",
        "\n",
        "  if len(s) != 0:                        # Validation is important.\n",
        "    for char in s:\n",
        "      if char in Operators:              # If the current character is an operator\n",
        "        t1 = s2.pop()                    # First element popped out == t1\n",
        "        t2 = s2.pop()                    # Second element popped out == t2\n",
        "        result = eval(f\"{t2} {Operators[char]} {t1}\") # f\"\" => Embed expressions in strings, e.g: value of (t2), Operator(*), value of (t1)\n",
        "        # eval is an in-built function in Python for dynamically generated expressions, takes string as an argument.\n",
        "\n",
        "        if char == \"-\":                  # Rule of subtraction, for validation (ensures subtraction is in order)\n",
        "          s2.push(-abs(float(result)))\n",
        "        else:\n",
        "          s2.push(float(result))         # The result is pushed into the stack, in case there are more characters in input string.\n",
        "\n",
        "      else:\n",
        "        s2.push(float(char))             # Not an operator? Simply convert it into float then, push into stack.\n",
        "\n",
        "    if not s2.isEmpty():                 # When loop breaks and stack is not empty\n",
        "      return s2.pop()                    # Return the final result from the stack\n",
        "\n",
        "    else:                                # If stack is empty and the loop breaks: Validation ;)\n",
        "      print(\"Invalid PostFix Expression\")\n",
        "\n",
        "  else:\n",
        "    print(\"Error: Input String is empty\")\n",
        "\n",
        "  return (float(result))"
      ],
      "metadata": {
        "id": "sFPkNbv2EELN"
      },
      "execution_count": 31,
      "outputs": []
    },
    {
      "cell_type": "code",
      "source": [
        "evaluate_postfix(pf3)"
      ],
      "metadata": {
        "colab": {
          "base_uri": "https://localhost:8080/"
        },
        "id": "tWLZr_LCKPtV",
        "outputId": "b7783b8e-39c0-4b45-c9a2-e9a29ac91d93"
      },
      "execution_count": 32,
      "outputs": [
        {
          "output_type": "execute_result",
          "data": {
            "text/plain": [
              "-1.5"
            ]
          },
          "metadata": {},
          "execution_count": 32
        }
      ]
    },
    {
      "cell_type": "code",
      "source": [
        "\"\"\"\n",
        "Problem: Largest Rectangle in Histogram\n",
        "\n",
        "Given an array heights representing the heights of a list of buildings in a histogram,\n",
        "find the area of the largest rectangle that can be formed by the histogram.\n",
        "\n",
        "For exmaple:\n",
        "\n",
        "heights = [2, 1, 5, 6, 2, 3]\n",
        "largest_rectangle_area(heights)\n",
        "\n",
        "Output: 10\n",
        "\n",
        "Explanation: The largest rectangle is formed by the buildings with heights 5 and 6.\n",
        "\n",
        "Solve this problem using a stack-based approach.\n",
        "The idea is to iterate through the histogram, keeping track of the indices of the buildings in a stack.\n",
        "\n",
        "When you encounter a building shorter than the one at the top of the stack, pop elements from the stack\n",
        "and calculate the area until you find a shorter building or the stack is empty. Keep track of the maximum area encountered during this process.\n",
        "\n",
        "This problem involves careful handling of indices and heights in a stack to efficiently calculate the area of the largest rectangle in the histogram.\n",
        "\n",
        "\"\"\""
      ],
      "metadata": {
        "colab": {
          "base_uri": "https://localhost:8080/",
          "height": 143
        },
        "id": "plouizYZxY1G",
        "outputId": "39660d73-2ee3-47d7-8401-4d2df86423af"
      },
      "execution_count": 33,
      "outputs": [
        {
          "output_type": "execute_result",
          "data": {
            "text/plain": [
              "'\\nProblem: Largest Rectangle in Histogram\\n\\nGiven an array heights representing the heights of a list of buildings in a histogram, \\nfind the area of the largest rectangle that can be formed by the histogram.\\n\\nFor exmaple:\\n\\nheights = [2, 1, 5, 6, 2, 3]\\nlargest_rectangle_area(heights)\\n\\nOutput: 10\\n\\nExplanation: The largest rectangle is formed by the buildings with heights 5 and 6.\\n\\nSolve this problem using a stack-based approach. \\nThe idea is to iterate through the histogram, keeping track of the indices of the buildings in a stack.\\n\\nWhen you encounter a building shorter than the one at the top of the stack, pop elements from the stack \\nand calculate the area until you find a shorter building or the stack is empty. Keep track of the maximum area encountered during this process.\\n\\nThis problem involves careful handling of indices and heights in a stack to efficiently calculate the area of the largest rectangle in the histogram.\\n\\n'"
            ],
            "application/vnd.google.colaboratory.intrinsic+json": {
              "type": "string"
            }
          },
          "metadata": {},
          "execution_count": 33
        }
      ]
    },
    {
      "cell_type": "code",
      "source": [
        "\"\"\"\n",
        "We can solve this by simply a Brute-Force Method:\n",
        "\n",
        "We can traverse through the input list of heights, and make a left and right pointer to the value of the index.\n",
        "\n",
        "The left will traverse to the left side (left--) and check how many values are lesser than the current index value.\n",
        "The right will traverse to the right side (right++) and check how many values are lesser than the current index value.\n",
        "\n",
        "Then, the area will be calculated for each traversal, and max area will be updated regarding it.\n",
        "area = (right-left-1) * a[i]\n",
        "where a[i] is the currently selected index value.\n",
        "\n",
        "if Max area is lesser than area, then update it.\n",
        "\n",
        "But the ISSUE with this is the time complexity.\n",
        "Nested Loops (left and right, inside the tarversal for each item in list),\n",
        "so Time Complexity => O(N^2)\n",
        "\n",
        "\n",
        "We can compromise some Space Complexity, inly a little bit, so as to drastically decrease this Time Complexity.\n",
        "Nested Loops will be eliminated, so Time Complexity will become O(N).\n",
        "\n",
        "We will create two new lists:\n",
        "      -> Previous Smaller = Ps\n",
        "      -> Next Smaller     = Ns\n",
        "\n",
        "     0   1  2 3 4 5 6 7 8 9\n",
        "a = [4,  2, 1,5,6,3,2,4,2]\n",
        "Ps= [-1,-1,-1,2,3,2,2,6,2]  # For each index, check on it's left side, on which closest index value, there is a value lesser than current value\n",
        "Ns= [1,  2, 9,5,5,6,9,8,9]  # For each index, check on it's right side, on which closest index value, there is a value lesser than current value\n",
        "\n",
        "Note that, for the Ns list, we have made a 9th index as assumption, for values which have no next smaller, similar to when we used -1 for the Ps list.\n",
        "\n",
        "Then, we traverse through the a[] list, and calculate the area on each index, such that:\n",
        "area = (Ns[i] - Ps[i] - 1) * a[i]\n",
        "\n",
        "Then compare it with Max Area.\n",
        "\n",
        "Hence Time Complexity = O(N)\n",
        "\"\"\""
      ],
      "metadata": {
        "colab": {
          "base_uri": "https://localhost:8080/",
          "height": 143
        },
        "id": "Jbsy07o7yLka",
        "outputId": "4ff7c178-ab75-445c-826f-b6818c0c00f0"
      },
      "execution_count": 34,
      "outputs": [
        {
          "output_type": "execute_result",
          "data": {
            "text/plain": [
              "\"\\nWe can solve this by simply a Brute-Force Method:\\n\\nWe can traverse through the input list of heights, and make a left and right pointer to the value of the index.\\n\\nThe left will traverse to the left side (left--) and check how many values are lesser than the current index value.\\nThe right will traverse to the right side (right++) and check how many values are lesser than the current index value.\\n\\nThen, the area will be calculated for each traversal, and max area will be updated regarding it.\\narea = (right-left-1) * a[i]\\nwhere a[i] is the currently selected index value.\\n\\nif Max area is lesser than area, then update it.\\n\\nBut the ISSUE with this is the time complexity.\\nNested Loops (left and right, inside the tarversal for each item in list),\\nso Time Complexity => O(N^2)\\n\\n\\nWe can compromise some Space Complexity, inly a little bit, so as to drastically decrease this Time Complexity.\\nNested Loops will be eliminated, so Time Complexity will become O(N).\\n\\nWe will create two new lists: \\n      -> Previous Smaller = Ps\\n      -> Next Smaller     = Ns\\n\\n     0   1  2 3 4 5 6 7 8 9 \\na = [4,  2, 1,5,6,3,2,4,2]\\nPs= [-1,-1,-1,2,3,2,2,6,2]  # For each index, check on it's left side, on which closest index value, there is a value lesser than current value\\nNs= [1,  2, 9,5,5,6,9,8,9]  # For each index, check on it's right side, on which closest index value, there is a value lesser than current value\\n\\nNote that, for the Ns list, we have made a 9th index as assumption, for values which have no next smaller, similar to when we used -1 for the Ps list.\\n\\nThen, we traverse through the a[] list, and calculate the area on each index, such that: \\narea = (Ns[i] - Ps[i] - 1) * a[i]\\n\\nThen compare it with Max Area.\\n\\nHence Time Complexity = O(N)\\n\""
            ],
            "application/vnd.google.colaboratory.intrinsic+json": {
              "type": "string"
            }
          },
          "metadata": {},
          "execution_count": 34
        }
      ]
    },
    {
      "cell_type": "code",
      "source": [
        "# As we have written our Psuedo Code, after understanding the problem thoroughly, listing down alternate ways, and selecting the best solution.\n",
        "\n",
        "# We can now begin coding our method for this ;)\n",
        "\n",
        "def largest_rectangle_area(a):\n",
        "    max_area = 0\n",
        "    tmp = Stack()               # Creating a temporary stack for our previous and next smaller arrays implementation\n",
        "    n = len(a)\n",
        "\n",
        "    Ps = [-1] * n               # Initializing it with -1\n",
        "    tmp.push(0)                 # Pushing the index of the first element of input list onto the stack\n",
        "\n",
        "    # Previous smaller indices\n",
        "    for i in range(1, n):\n",
        "        while not tmp.isEmpty() and a[tmp.peek()] >= a[i]:  # Stack's top element is greater than the current selected in input list\n",
        "            tmp.pop()           # Means that a smaller element is detetcted.\n",
        "        if not tmp.isEmpty():\n",
        "            Ps[i] = tmp.peek()  # If the stack is not empty, then simply update the position of the current element with the smaller element's index\n",
        "        tmp.push(i)             # For each iteration, we push the current index, onto the stack\n",
        "\n",
        "    # Resetting the stack for next smaller indices\n",
        "    tmp = Stack()               # Resetting the Stack\n",
        "    Ns = [n] * n                # Initializing the Next Smaller list with the length of the input list\n",
        "    tmp.push(n - 1)             # Pushing the last index of the input list, onto the stack\n",
        "\n",
        "    # Next smaller indices\n",
        "    for i in range(n - 2, -1, -1):    # Start from second last in list, go back one step, stop when it reaches end of the list\n",
        "    # Same content for the for loop, as before.\n",
        "        while not tmp.isEmpty() and a[tmp.peek()] >= a[i]:\n",
        "            tmp.pop()\n",
        "        if not tmp.isEmpty():\n",
        "            Ns[i] = tmp.peek()\n",
        "        tmp.push(i)\n",
        "\n",
        "    # Calculate the maximum area\n",
        "    for i in range(n):\n",
        "        width = Ns[i] - Ps[i] - 1\n",
        "        area = width * a[i]\n",
        "        max_area = max(max_area, area)\n",
        "\n",
        "    return max_area"
      ],
      "metadata": {
        "id": "Q20ABY2OKTyM"
      },
      "execution_count": 40,
      "outputs": []
    },
    {
      "cell_type": "code",
      "source": [
        "heights = [2,1,5,6,2,3]\n",
        "\n",
        "print(largest_rectangle_area(heights))"
      ],
      "metadata": {
        "colab": {
          "base_uri": "https://localhost:8080/"
        },
        "id": "LvaNhZQKHJ7u",
        "outputId": "c8ea4e53-1d27-41f0-9237-533e62eed750"
      },
      "execution_count": 41,
      "outputs": [
        {
          "output_type": "stream",
          "name": "stdout",
          "text": [
            "10\n"
          ]
        }
      ]
    },
    {
      "cell_type": "code",
      "source": [
        "heights = [4,2,1,5,6,3,2,4,2]\n",
        "\n",
        "print(largest_rectangle_area(heights))"
      ],
      "metadata": {
        "colab": {
          "base_uri": "https://localhost:8080/"
        },
        "id": "3MGvUq_QHnx5",
        "outputId": "8d32944b-4d3c-418c-b638-fe1db68f676f"
      },
      "execution_count": 42,
      "outputs": [
        {
          "output_type": "stream",
          "name": "stdout",
          "text": [
            "12\n"
          ]
        }
      ]
    }
  ]
}